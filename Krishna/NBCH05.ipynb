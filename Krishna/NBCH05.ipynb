{
 "cells": [
  {
   "cell_type": "code",
   "execution_count": 8,
   "metadata": {},
   "outputs": [
    {
     "ename": "IndentationError",
     "evalue": "unindent does not match any outer indentation level (<tokenize>, line 20)",
     "output_type": "error",
     "traceback": [
      "\u001b[0;36m  File \u001b[0;32m\"<tokenize>\"\u001b[0;36m, line \u001b[0;32m20\u001b[0m\n\u001b[0;31m    time.sleep(2)\u001b[0m\n\u001b[0m    ^\u001b[0m\n\u001b[0;31mIndentationError\u001b[0m\u001b[0;31m:\u001b[0m unindent does not match any outer indentation level\n"
     ]
    }
   ],
   "source": [
    "import random\n",
    "import time\n",
    "def displayIntro():\n",
    "    print('''You are in a land full of dragons. In front of you,\n",
    "you see two caves. In one cave, the dragon is friendly\n",
    "and will share his treasure with you. The other dragon\n",
    "is greedy and hungry, and will eat you on sight.''')\n",
    "print()\n",
    "\n",
    "def chooseCave():\n",
    "    cave = ''\n",
    "      while cave != '1' and cave != '2':\n",
    "              print('Which cave will you go into? (1 or 2)')\n",
    "                cave = input()\n",
    "\n",
    "    return cave\n",
    "\n",
    "def checkCave(chosenCave):\n",
    "     print('You approach the cave...')\n",
    "        time.sleep(2)\n",
    "     print('It is dark and spooky...')\n",
    "     time.sleep(2)\n",
    "     print('A large dragon jumps out in front of you! He opens his jaws and...')\n",
    "    print()\n",
    "     time.sleep(2)\n",
    "\n",
    "    friendlyCave = random.randint(1, 2)\n",
    "\n",
    "    if chosenCave == str(friendlyCave):\n",
    "        print('Gives you his treasure!')\n",
    "    else:\n",
    "         print('Gobbles you down in one bite!')\n",
    "\n",
    "playAgain = 'yes'\n",
    "while playAgain == 'yes' or playAgain == 'y':\n",
    "     displayIntro()\n",
    "    caveNumber = chooseCave()\n",
    "     checkCave(caveNumber)\n",
    "\n",
    "    print('Do you want to play again? (yes or no)')\n",
    "    playAgain = input()"
   ]
  },
  {
   "cell_type": "code",
   "execution_count": null,
   "metadata": {},
   "outputs": [],
   "source": []
  }
 ],
 "metadata": {
  "kernelspec": {
   "display_name": "Python 3",
   "language": "python",
   "name": "python3"
  },
  "language_info": {
   "codemirror_mode": {
    "name": "ipython",
    "version": 3
   },
   "file_extension": ".py",
   "mimetype": "text/x-python",
   "name": "python",
   "nbconvert_exporter": "python",
   "pygments_lexer": "ipython3",
   "version": "3.8.5"
  }
 },
 "nbformat": 4,
 "nbformat_minor": 4
}
