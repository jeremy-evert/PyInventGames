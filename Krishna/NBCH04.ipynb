{
 "cells": [
  {
   "cell_type": "code",
   "execution_count": 1,
   "metadata": {},
   "outputs": [
    {
     "name": "stdout",
     "output_type": "stream",
     "text": [
      "What do you get when you cross a snowman with a vampire?\n",
      "frostbite\n",
      "Frostbite!\n",
      "\n",
      "What do dentists call an astronaut's cavity?\n",
      "a black hole\n",
      "A black hole!\n",
      "\n",
      "Knock knock.\n",
      "whos there\n",
      "Who's there?\n",
      "\n",
      "Interrupting cow.\n",
      "interrupting cow what\n",
      "Interrupting cow wh-MOO!\n"
     ]
    }
   ],
   "source": [
    "print('What do you get when you cross a snowman with a vampire?')\n",
    "input()\n",
    "print('Frostbite!')\n",
    "print()\n",
    "print('What do dentists call an astronaut\\'s cavity?')\n",
    "input()\n",
    "print('A black hole!')\n",
    "print()\n",
    "print('Knock knock.')\n",
    "input()\n",
    "print(\"Who's there?\")\n",
    "input()\n",
    "print('Interrupting cow.')\n",
    "input()\n",
    "print('Interrupting cow wh', end='')\n",
    "print('-MOO!')"
   ]
  },
  {
   "cell_type": "code",
   "execution_count": 5,
   "metadata": {},
   "outputs": [
    {
     "name": "stdout",
     "output_type": "stream",
     "text": [
      "They flew away in a green\teal helicopter.\n"
     ]
    }
   ],
   "source": [
    ">>> print('They flew away in a green\\teal helicopter.')\n"
   ]
  },
  {
   "cell_type": "code",
   "execution_count": null,
   "metadata": {},
   "outputs": [],
   "source": []
  }
 ],
 "metadata": {
  "kernelspec": {
   "display_name": "Python 3",
   "language": "python",
   "name": "python3"
  },
  "language_info": {
   "codemirror_mode": {
    "name": "ipython",
    "version": 3
   },
   "file_extension": ".py",
   "mimetype": "text/x-python",
   "name": "python",
   "nbconvert_exporter": "python",
   "pygments_lexer": "ipython3",
   "version": "3.8.5"
  }
 },
 "nbformat": 4,
 "nbformat_minor": 4
}
