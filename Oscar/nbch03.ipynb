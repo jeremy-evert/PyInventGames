{
 "cells": [
  {
   "cell_type": "code",
   "execution_count": 1,
   "metadata": {},
   "outputs": [
    {
     "ename": "IndentationError",
     "evalue": "unexpected indent (<ipython-input-1-da32155e3f32>, line 2)",
     "output_type": "error",
     "traceback": [
      "\u001b[0;36m  File \u001b[0;32m\"<ipython-input-1-da32155e3f32>\"\u001b[0;36m, line \u001b[0;32m2\u001b[0m\n\u001b[0;31m    3.\u001b[0m\n\u001b[0m    ^\u001b[0m\n\u001b[0;31mIndentationError\u001b[0m\u001b[0;31m:\u001b[0m unexpected indent\n"
     ]
    }
   ],
   "source": [
    "import random\n",
    " 3.\n",
    " 4. guessesTaken = 0\n",
    " 5.\n",
    " 6. print('Hello! What is your name?')\n",
    " 7. myName = input()\n",
    " 8.\n",
    " 9. number = random.randint(1, 20)\n",
    "10. print('Well, ' + myName + ', I am thinking of a number between 1 and 20.')\n",
    "11.\n",
    "12. for guessesTaken in range(6):\n",
    "13.     print('Take a guess.') # Four spaces in front of \"print\"\n",
    "14.     guess = input()\n",
    "15.     guess = int(guess)\n",
    "16.\n",
    "17.     if guess < number:\n",
    "18.         print('Your guess is too low.') # Eight spaces in front of \"print\"\n",
    "19.\n",
    "20.     if guess > number:\n",
    "21.         print('Your guess is too high.')\n",
    "22.\n",
    "23.     if guess == number:\n",
    "24.         break\n",
    "25.\n",
    "26. if guess == number:\n",
    "27.     guessesTaken = str(guessesTaken + 1)\n",
    "28.     print('Good job, ' + myName + '! You guessed my number in ' +\n",
    "          guessesTaken + ' guesses!')\n",
    "29.\n",
    "30. if guess != number:\n",
    "31.     number = str(number)\n",
    "32.     print('Nope. The number I was thinking of was ' + number + '.')"
   ]
  },
  {
   "cell_type": "code",
   "execution_count": 3,
   "metadata": {},
   "outputs": [
    {
     "ename": "IndentationError",
     "evalue": "unindent does not match any outer indentation level (<tokenize>, line 24)",
     "output_type": "error",
     "traceback": [
      "\u001b[0;36m  File \u001b[0;32m\"<tokenize>\"\u001b[0;36m, line \u001b[0;32m24\u001b[0m\n\u001b[0;31m    if guess == number:\u001b[0m\n\u001b[0m    ^\u001b[0m\n\u001b[0;31mIndentationError\u001b[0m\u001b[0;31m:\u001b[0m unindent does not match any outer indentation level\n"
     ]
    }
   ],
   "source": [
    "import random\n",
    " \n",
    " guessesTaken = 0\n",
    " print('Hello! What is your name?')\n",
    "  myName = input()\n",
    "\n",
    " number = random.randint(1, 20)\n",
    " print('Well, ' + myName + ', I am thinking of a number between 1 and 20.')\n",
    "\n",
    " for guessesTaken in range(6):\n",
    "     print('Take a guess.') # Four spaces in front of \"print\"\n",
    "     guess = input()\n",
    "     guess = int(guess)\n",
    "\n",
    "     if guess < number:\n",
    "        print('Your guess is too low.') # Eight spaces in front of \"print\"\n",
    "\n",
    "     if guess > number:\n",
    "         print('Your guess is too high.')\n",
    "\n",
    "     if guess == number:\n",
    "         break\n",
    "\n",
    "  if guess == number:\n",
    "     guessesTaken = str(guessesTaken + 1)\n",
    "     print('Good job, ' + myName + '! You guessed my number in ' +\n",
    "          guessesTaken + ' guesses!')\n",
    "\n",
    " if guess != number:\n",
    "     number = str(number)\n",
    "     print('Nope. The number I was thinking of was ' + number + '.')\n",
    "    "
   ]
  },
  {
   "cell_type": "code",
   "execution_count": 5,
   "metadata": {},
   "outputs": [
    {
     "ename": "IndentationError",
     "evalue": "unindent does not match any outer indentation level (<tokenize>, line 8)",
     "output_type": "error",
     "traceback": [
      "\u001b[0;36m  File \u001b[0;32m\"<tokenize>\"\u001b[0;36m, line \u001b[0;32m8\u001b[0m\n\u001b[0;31m    number = random.randint(1, 20)\u001b[0m\n\u001b[0m    ^\u001b[0m\n\u001b[0;31mIndentationError\u001b[0m\u001b[0;31m:\u001b[0m unindent does not match any outer indentation level\n"
     ]
    }
   ],
   "source": [
    "import random\n",
    " \n",
    "     guessesTaken = 0\n",
    "        \n",
    "     print('Hello! What is your name?')\n",
    "     myName = input()\n",
    "\n",
    " number = random.randint(1, 20)\n",
    "     print('Well, ' + myName + ', I am thinking of a number between 1 and 20.')\n",
    "\n",
    " for guessesTaken in range(6):\n",
    "     print('Take a guess.') # Four spaces in front of \"print\"\n",
    "     guess = input()\n",
    "     guess = int(guess)\n",
    "\n",
    "     if guess < number:\n",
    "        print('Your guess is too low.') # Eight spaces in front of \"print\"\n",
    "\n",
    "     if guess > number:\n",
    "         print('Your guess is too high.')\n",
    "\n",
    "     if guess == number:\n",
    "         break\n",
    "\n",
    "    if guess == number:\n",
    "        guessesTaken = str(guessesTaken + 1)\n",
    "         print('Good job, ' + myName + '! You guessed my number in ' + guessesTaken + ' guesses!')\n",
    "\n",
    "    if guess != number:\n",
    "        number = str(number)\n",
    "         print('Nope. The number I was thinking of was ' + number + '.')"
   ]
  },
  {
   "cell_type": "code",
   "execution_count": 7,
   "metadata": {},
   "outputs": [
    {
     "ename": "IndentationError",
     "evalue": "unindent does not match any outer indentation level (<tokenize>, line 11)",
     "output_type": "error",
     "traceback": [
      "\u001b[0;36m  File \u001b[0;32m\"<tokenize>\"\u001b[0;36m, line \u001b[0;32m11\u001b[0m\n\u001b[0;31m    for guessesTaken in range(6):\u001b[0m\n\u001b[0m    ^\u001b[0m\n\u001b[0;31mIndentationError\u001b[0m\u001b[0;31m:\u001b[0m unindent does not match any outer indentation level\n"
     ]
    }
   ],
   "source": [
    "import random\n",
    " \n",
    "     guessesTaken = 0\n",
    "        \n",
    "     print('Hello! What is your name?')\n",
    "     myName = input()\n",
    "\n",
    "     number = random.randint(1, 20)\n",
    "     print('Well, ' + myName + ', I am thinking of a number between 1 and 20.')\n",
    "\n",
    "    for guessesTaken in range(6):\n",
    "         print('Take a guess.') # Four spaces in front of \"print\"\n",
    "         guess = input()\n",
    "         guess = int(guess)\n",
    "\n",
    "         if guess < number:\n",
    "            print('Your guess is too low.') # Eight spaces in front of \"print\"\n",
    "\n",
    "         if guess > number:\n",
    "             print('Your guess is too high.')\n",
    "\n",
    "         if guess == number:\n",
    "             break\n",
    "\n",
    "    if guess == number:\n",
    "        guessesTaken = str(guessesTaken + 1)\n",
    "         print('Good job, ' + myName + '! You guessed my number in ' + guessesTaken + ' guesses!')\n",
    "\n",
    "    if guess != number:\n",
    "        number = str(number)\n",
    "         print('Nope. The number I was thinking of was ' + number + '.')"
   ]
  },
  {
   "cell_type": "code",
   "execution_count": 8,
   "metadata": {},
   "outputs": [
    {
     "ename": "IndentationError",
     "evalue": "unexpected indent (<ipython-input-8-ed964bb1a917>, line 27)",
     "output_type": "error",
     "traceback": [
      "\u001b[0;36m  File \u001b[0;32m\"<ipython-input-8-ed964bb1a917>\"\u001b[0;36m, line \u001b[0;32m27\u001b[0m\n\u001b[0;31m    print('Good job, ' + myName + '! You guessed my number in ' + guessesTaken + ' guesses!')\u001b[0m\n\u001b[0m    ^\u001b[0m\n\u001b[0;31mIndentationError\u001b[0m\u001b[0;31m:\u001b[0m unexpected indent\n"
     ]
    }
   ],
   "source": [
    "import random\n",
    "\n",
    "guessesTaken = 0\n",
    "\n",
    "print('Hello! What is your name?')\n",
    "myName = input()\n",
    "\n",
    "number = random.randint(1, 20)\n",
    "print('Well, ' + myName + ', I am thinking of a number between 1 and 20.')\n",
    "\n",
    "for guessesTaken in range(6):\n",
    "    print('Take a guess.') # Four spaces in front of \"print\"\n",
    "    guess = input()\n",
    "    guess = int(guess)\n",
    "\n",
    "    if guess < number:\n",
    "            print('Your guess is too low.') # Eight spaces in front of \"print\"\n",
    "\n",
    "    if guess > number:\n",
    "             print('Your guess is too high.')\n",
    "\n",
    "    if guess == number:\n",
    "             break\n",
    "\n",
    "    if guess == number:\n",
    "        guessesTaken = str(guessesTaken + 1)\n",
    "         print('Good job, ' + myName + '! You guessed my number in ' + guessesTaken + ' guesses!')\n",
    "\n",
    "    if guess != number:\n",
    "        number = str(number)\n",
    "         print('Nope. The number I was thinking of was ' + number + '.')"
   ]
  },
  {
   "cell_type": "code",
   "execution_count": 9,
   "metadata": {},
   "outputs": [
    {
     "ename": "IndentationError",
     "evalue": "unexpected indent (<ipython-input-9-e1fe4c309426>, line 27)",
     "output_type": "error",
     "traceback": [
      "\u001b[0;36m  File \u001b[0;32m\"<ipython-input-9-e1fe4c309426>\"\u001b[0;36m, line \u001b[0;32m27\u001b[0m\n\u001b[0;31m    print('Good job, ' + myName + '! You guessed my number in ' + guessesTaken + ' guesses!')\u001b[0m\n\u001b[0m    ^\u001b[0m\n\u001b[0;31mIndentationError\u001b[0m\u001b[0;31m:\u001b[0m unexpected indent\n"
     ]
    }
   ],
   "source": [
    "import random\n",
    "\n",
    "guessesTaken = 0\n",
    "\n",
    "print('Hello! What is your name?')\n",
    "myName = input()\n",
    "\n",
    "number = random.randint(1, 20)\n",
    "print('Well, ' + myName + ', I am thinking of a number between 1 and 20.')\n",
    "\n",
    "for guessesTaken in range(6):\n",
    "    print('Take a guess.') # Four spaces in front of \"print\"\n",
    "    guess = input()\n",
    "    guess = int(guess)\n",
    "\n",
    "    if guess < number:\n",
    "            print('Your guess is too low.') # Eight spaces in front of \"print\"\n",
    "\n",
    "    if guess > number:\n",
    "             print('Your guess is too high.')\n",
    "\n",
    "    if guess == number:\n",
    "             break\n",
    "\n",
    "if guess == number:\n",
    "    guessesTaken = str(guessesTaken + 1)\n",
    "         print('Good job, ' + myName + '! You guessed my number in ' + guessesTaken + ' guesses!')\n",
    "\n",
    "if guess != number:\n",
    "    number = str(number)\n",
    "         print('Nope. The number I was thinking of was ' + number + '.')"
   ]
  },
  {
   "cell_type": "code",
   "execution_count": 10,
   "metadata": {},
   "outputs": [
    {
     "name": "stdout",
     "output_type": "stream",
     "text": [
      "Hello! What is your name?\n",
      "10\n",
      "Well, 10, I am thinking of a number between 1 and 20.\n",
      "Take a guess.\n",
      "10\n",
      "Your guess is too low.\n",
      "Take a guess.\n",
      "14\n",
      "Your guess is too high.\n",
      "Take a guess.\n",
      "12\n",
      "Your guess is too high.\n",
      "Take a guess.\n",
      "11\n",
      "Good job, 10! You guessed my number in 4 guesses!\n"
     ]
    }
   ],
   "source": [
    "import random\n",
    "\n",
    "guessesTaken = 0\n",
    "\n",
    "print('Hello! What is your name?')\n",
    "myName = input()\n",
    "\n",
    "number = random.randint(1, 20)\n",
    "print('Well, ' + myName + ', I am thinking of a number between 1 and 20.')\n",
    "\n",
    "for guessesTaken in range(6):\n",
    "    print('Take a guess.') # Four spaces in front of \"print\"\n",
    "    guess = input()\n",
    "    guess = int(guess)\n",
    "\n",
    "    if guess < number:\n",
    "            print('Your guess is too low.') # Eight spaces in front of \"print\"\n",
    "\n",
    "    if guess > number:\n",
    "             print('Your guess is too high.')\n",
    "\n",
    "    if guess == number:\n",
    "             break\n",
    "\n",
    "if guess == number:\n",
    "    guessesTaken = str(guessesTaken + 1)\n",
    "    print('Good job, ' + myName + '! You guessed my number in ' + guessesTaken + ' guesses!')\n",
    "\n",
    "if guess != number:\n",
    "    number = str(number)\n",
    "    print('Nope. The number I was thinking of was ' + number + '.')"
   ]
  },
  {
   "cell_type": "code",
   "execution_count": null,
   "metadata": {},
   "outputs": [],
   "source": []
  }
 ],
 "metadata": {
  "kernelspec": {
   "display_name": "Python 3",
   "language": "python",
   "name": "python3"
  },
  "language_info": {
   "codemirror_mode": {
    "name": "ipython",
    "version": 3
   },
   "file_extension": ".py",
   "mimetype": "text/x-python",
   "name": "python",
   "nbconvert_exporter": "python",
   "pygments_lexer": "ipython3",
   "version": "3.8.5"
  }
 },
 "nbformat": 4,
 "nbformat_minor": 4
}
